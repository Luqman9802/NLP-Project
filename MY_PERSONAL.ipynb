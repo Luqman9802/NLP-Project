{
  "nbformat": 4,
  "nbformat_minor": 0,
  "metadata": {
    "colab": {
      "provenance": [],
      "authorship_tag": "ABX9TyOW3xZaxDOFavm8BG8IG7gZ",
      "include_colab_link": true
    },
    "kernelspec": {
      "name": "python3",
      "display_name": "Python 3"
    },
    "language_info": {
      "name": "python"
    }
  },
  "cells": [
    {
      "cell_type": "markdown",
      "metadata": {
        "id": "view-in-github",
        "colab_type": "text"
      },
      "source": [
        "<a href=\"https://colab.research.google.com/github/Luqman9802/Lab04/blob/master/MY_PERSONAL.ipynb\" target=\"_parent\"><img src=\"https://colab.research.google.com/assets/colab-badge.svg\" alt=\"Open In Colab\"/></a>"
      ]
    },
    {
      "cell_type": "code",
      "execution_count": 1,
      "metadata": {
        "colab": {
          "base_uri": "https://localhost:8080/"
        },
        "collapsed": true,
        "id": "B7UJo64SFZEJ",
        "outputId": "0f86f0dd-ef1e-4e16-8221-297e5286e40c"
      },
      "outputs": [
        {
          "output_type": "stream",
          "name": "stdout",
          "text": [
            "\u001b[2K   \u001b[90m━━━━━━━━━━━━━━━━━━━━━━━━━━━━━━━━━━━━━━━━\u001b[0m \u001b[32m31.3/31.3 MB\u001b[0m \u001b[31m16.6 MB/s\u001b[0m eta \u001b[36m0:00:00\u001b[0m\n",
            "\u001b[2K   \u001b[90m━━━━━━━━━━━━━━━━━━━━━━━━━━━━━━━━━━━━━━━━\u001b[0m \u001b[32m363.4/363.4 MB\u001b[0m \u001b[31m4.1 MB/s\u001b[0m eta \u001b[36m0:00:00\u001b[0m\n",
            "\u001b[2K   \u001b[90m━━━━━━━━━━━━━━━━━━━━━━━━━━━━━━━━━━━━━━━━\u001b[0m \u001b[32m13.8/13.8 MB\u001b[0m \u001b[31m68.7 MB/s\u001b[0m eta \u001b[36m0:00:00\u001b[0m\n",
            "\u001b[2K   \u001b[90m━━━━━━━━━━━━━━━━━━━━━━━━━━━━━━━━━━━━━━━━\u001b[0m \u001b[32m24.6/24.6 MB\u001b[0m \u001b[31m52.3 MB/s\u001b[0m eta \u001b[36m0:00:00\u001b[0m\n",
            "\u001b[2K   \u001b[90m━━━━━━━━━━━━━━━━━━━━━━━━━━━━━━━━━━━━━━━━\u001b[0m \u001b[32m883.7/883.7 kB\u001b[0m \u001b[31m35.6 MB/s\u001b[0m eta \u001b[36m0:00:00\u001b[0m\n",
            "\u001b[2K   \u001b[90m━━━━━━━━━━━━━━━━━━━━━━━━━━━━━━━━━━━━━━━━\u001b[0m \u001b[32m664.8/664.8 MB\u001b[0m \u001b[31m2.8 MB/s\u001b[0m eta \u001b[36m0:00:00\u001b[0m\n",
            "\u001b[2K   \u001b[90m━━━━━━━━━━━━━━━━━━━━━━━━━━━━━━━━━━━━━━━━\u001b[0m \u001b[32m211.5/211.5 MB\u001b[0m \u001b[31m5.8 MB/s\u001b[0m eta \u001b[36m0:00:00\u001b[0m\n",
            "\u001b[2K   \u001b[90m━━━━━━━━━━━━━━━━━━━━━━━━━━━━━━━━━━━━━━━━\u001b[0m \u001b[32m56.3/56.3 MB\u001b[0m \u001b[31m10.9 MB/s\u001b[0m eta \u001b[36m0:00:00\u001b[0m\n",
            "\u001b[2K   \u001b[90m━━━━━━━━━━━━━━━━━━━━━━━━━━━━━━━━━━━━━━━━\u001b[0m \u001b[32m127.9/127.9 MB\u001b[0m \u001b[31m7.5 MB/s\u001b[0m eta \u001b[36m0:00:00\u001b[0m\n",
            "\u001b[2K   \u001b[90m━━━━━━━━━━━━━━━━━━━━━━━━━━━━━━━━━━━━━━━━\u001b[0m \u001b[32m207.5/207.5 MB\u001b[0m \u001b[31m5.9 MB/s\u001b[0m eta \u001b[36m0:00:00\u001b[0m\n",
            "\u001b[2K   \u001b[90m━━━━━━━━━━━━━━━━━━━━━━━━━━━━━━━━━━━━━━━━\u001b[0m \u001b[32m21.1/21.1 MB\u001b[0m \u001b[31m84.4 MB/s\u001b[0m eta \u001b[36m0:00:00\u001b[0m\n",
            "\u001b[?25h"
          ]
        }
      ],
      "source": [
        "!pip install -q sentence-transformers faiss-cpu scikit-learn matplotlib"
      ]
    },
    {
      "cell_type": "code",
      "source": [
        "from sentence_transformers import SentenceTransformer\n",
        "from sklearn.metrics.pairwise import cosine_similarity\n",
        "from sklearn.manifold import TSNE\n",
        "import matplotlib.pyplot as plt\n",
        "import faiss\n",
        "import numpy as np\n",
        "\n",
        "# Load the pre-trained model\n",
        "model = SentenceTransformer('all-MiniLM-L6-v2')\n"
      ],
      "metadata": {
        "id": "BxVMoOxcGid2"
      },
      "execution_count": 14,
      "outputs": []
    },
    {
      "cell_type": "code",
      "source": [
        "texts = [\n",
        "    \"The sky is blue.\",\n",
        "    \"The sun is bright today.\",\n",
        "    \"It’s a good day for a walk.\",\n",
        "    \"Dogs are great companions.\",\n",
        "    \"I love programming in Python.\",\n",
        "    \"Artificial intelligence is evolving rapidly.\",\n",
        "    \"The ocean is calm and vast.\",\n",
        "    \"Let’s go for a swim.\",\n",
        "    \"Cats are independent pets.\",\n",
        "    \"Tomorrow might rain.\"\n",
        "]\n",
        "\n",
        "# Generate embeddings for the sentences\n",
        "embeddings = model.encode(texts)"
      ],
      "metadata": {
        "id": "E3oxZng-Gw9b"
      },
      "execution_count": 15,
      "outputs": []
    },
    {
      "cell_type": "code",
      "source": [
        "from sklearn.metrics.pairwise import cosine_similarity\n",
        "import pandas as pd\n",
        "\n",
        "similarity_matrix = cosine_similarity(embeddings)\n",
        "similarity_df = pd.DataFrame(similarity_matrix, index=texts, columns=texts)\n",
        "print(similarity_df.round(2))"
      ],
      "metadata": {
        "colab": {
          "base_uri": "https://localhost:8080/"
        },
        "collapsed": true,
        "id": "wDNtcHWBI0W5",
        "outputId": "3c771239-13dc-4357-d1b7-969df2e2064a"
      },
      "execution_count": 19,
      "outputs": [
        {
          "output_type": "stream",
          "name": "stdout",
          "text": [
            "                                              The sky is blue.  \\\n",
            "The sky is blue.                                          1.00   \n",
            "The sun is bright today.                                  0.45   \n",
            "It’s a good day for a walk.                               0.17   \n",
            "Dogs are great companions.                                0.07   \n",
            "I love programming in Python.                             0.04   \n",
            "Artificial intelligence is evolving rapidly.              0.09   \n",
            "The ocean is calm and vast.                               0.33   \n",
            "Let’s go for a swim.                                      0.11   \n",
            "Cats are independent pets.                               -0.00   \n",
            "Tomorrow might rain.                                      0.29   \n",
            "\n",
            "                                              The sun is bright today.  \\\n",
            "The sky is blue.                                                  0.45   \n",
            "The sun is bright today.                                          1.00   \n",
            "It’s a good day for a walk.                                       0.36   \n",
            "Dogs are great companions.                                        0.14   \n",
            "I love programming in Python.                                     0.02   \n",
            "Artificial intelligence is evolving rapidly.                      0.10   \n",
            "The ocean is calm and vast.                                       0.36   \n",
            "Let’s go for a swim.                                              0.16   \n",
            "Cats are independent pets.                                        0.00   \n",
            "Tomorrow might rain.                                              0.33   \n",
            "\n",
            "                                              It’s a good day for a walk.  \\\n",
            "The sky is blue.                                                     0.17   \n",
            "The sun is bright today.                                             0.36   \n",
            "It’s a good day for a walk.                                          1.00   \n",
            "Dogs are great companions.                                           0.32   \n",
            "I love programming in Python.                                        0.11   \n",
            "Artificial intelligence is evolving rapidly.                         0.05   \n",
            "The ocean is calm and vast.                                          0.15   \n",
            "Let’s go for a swim.                                                 0.29   \n",
            "Cats are independent pets.                                           0.07   \n",
            "Tomorrow might rain.                                                 0.39   \n",
            "\n",
            "                                              Dogs are great companions.  \\\n",
            "The sky is blue.                                                    0.07   \n",
            "The sun is bright today.                                            0.14   \n",
            "It’s a good day for a walk.                                         0.32   \n",
            "Dogs are great companions.                                          1.00   \n",
            "I love programming in Python.                                       0.20   \n",
            "Artificial intelligence is evolving rapidly.                        0.14   \n",
            "The ocean is calm and vast.                                         0.14   \n",
            "Let’s go for a swim.                                                0.08   \n",
            "Cats are independent pets.                                          0.40   \n",
            "Tomorrow might rain.                                                0.08   \n",
            "\n",
            "                                              I love programming in Python.  \\\n",
            "The sky is blue.                                                       0.04   \n",
            "The sun is bright today.                                               0.02   \n",
            "It’s a good day for a walk.                                            0.11   \n",
            "Dogs are great companions.                                             0.20   \n",
            "I love programming in Python.                                          1.00   \n",
            "Artificial intelligence is evolving rapidly.                           0.28   \n",
            "The ocean is calm and vast.                                            0.10   \n",
            "Let’s go for a swim.                                                   0.17   \n",
            "Cats are independent pets.                                             0.15   \n",
            "Tomorrow might rain.                                                   0.06   \n",
            "\n",
            "                                              Artificial intelligence is evolving rapidly.  \\\n",
            "The sky is blue.                                                                      0.09   \n",
            "The sun is bright today.                                                              0.10   \n",
            "It’s a good day for a walk.                                                           0.05   \n",
            "Dogs are great companions.                                                            0.14   \n",
            "I love programming in Python.                                                         0.28   \n",
            "Artificial intelligence is evolving rapidly.                                          1.00   \n",
            "The ocean is calm and vast.                                                           0.15   \n",
            "Let’s go for a swim.                                                                  0.14   \n",
            "Cats are independent pets.                                                            0.03   \n",
            "Tomorrow might rain.                                                                  0.12   \n",
            "\n",
            "                                              The ocean is calm and vast.  \\\n",
            "The sky is blue.                                                     0.33   \n",
            "The sun is bright today.                                             0.36   \n",
            "It’s a good day for a walk.                                          0.15   \n",
            "Dogs are great companions.                                           0.14   \n",
            "I love programming in Python.                                        0.10   \n",
            "Artificial intelligence is evolving rapidly.                         0.15   \n",
            "The ocean is calm and vast.                                          1.00   \n",
            "Let’s go for a swim.                                                 0.32   \n",
            "Cats are independent pets.                                          -0.03   \n",
            "Tomorrow might rain.                                                 0.20   \n",
            "\n",
            "                                              Let’s go for a swim.  \\\n",
            "The sky is blue.                                              0.11   \n",
            "The sun is bright today.                                      0.16   \n",
            "It’s a good day for a walk.                                   0.29   \n",
            "Dogs are great companions.                                    0.08   \n",
            "I love programming in Python.                                 0.17   \n",
            "Artificial intelligence is evolving rapidly.                  0.14   \n",
            "The ocean is calm and vast.                                   0.32   \n",
            "Let’s go for a swim.                                          1.00   \n",
            "Cats are independent pets.                                    0.04   \n",
            "Tomorrow might rain.                                          0.36   \n",
            "\n",
            "                                              Cats are independent pets.  \\\n",
            "The sky is blue.                                                   -0.00   \n",
            "The sun is bright today.                                            0.00   \n",
            "It’s a good day for a walk.                                         0.07   \n",
            "Dogs are great companions.                                          0.40   \n",
            "I love programming in Python.                                       0.15   \n",
            "Artificial intelligence is evolving rapidly.                        0.03   \n",
            "The ocean is calm and vast.                                        -0.03   \n",
            "Let’s go for a swim.                                                0.04   \n",
            "Cats are independent pets.                                          1.00   \n",
            "Tomorrow might rain.                                                0.01   \n",
            "\n",
            "                                              Tomorrow might rain.  \n",
            "The sky is blue.                                              0.29  \n",
            "The sun is bright today.                                      0.33  \n",
            "It’s a good day for a walk.                                   0.39  \n",
            "Dogs are great companions.                                    0.08  \n",
            "I love programming in Python.                                 0.06  \n",
            "Artificial intelligence is evolving rapidly.                  0.12  \n",
            "The ocean is calm and vast.                                   0.20  \n",
            "Let’s go for a swim.                                          0.36  \n",
            "Cats are independent pets.                                    0.01  \n",
            "Tomorrow might rain.                                          1.00  \n"
          ]
        }
      ]
    },
    {
      "cell_type": "code",
      "source": [
        "cos_sim = cosine_similarity(embeddings)\n",
        "print(\"Cosine Similarity Matrix:\")\n",
        "print(np.round(cos_sim, 2))\n"
      ],
      "metadata": {
        "colab": {
          "base_uri": "https://localhost:8080/"
        },
        "collapsed": true,
        "id": "eGP3XdcyGz1h",
        "outputId": "727df092-a869-4ecf-fcf2-775bbb8e19d5"
      },
      "execution_count": 18,
      "outputs": [
        {
          "output_type": "stream",
          "name": "stdout",
          "text": [
            "Cosine Similarity Matrix:\n",
            "[[ 1.    0.45  0.17  0.07  0.04  0.09  0.33  0.11 -0.    0.29]\n",
            " [ 0.45  1.    0.36  0.14  0.02  0.1   0.36  0.16  0.    0.33]\n",
            " [ 0.17  0.36  1.    0.32  0.11  0.05  0.15  0.29  0.07  0.39]\n",
            " [ 0.07  0.14  0.32  1.    0.2   0.14  0.14  0.08  0.4   0.08]\n",
            " [ 0.04  0.02  0.11  0.2   1.    0.28  0.1   0.17  0.15  0.06]\n",
            " [ 0.09  0.1   0.05  0.14  0.28  1.    0.15  0.14  0.03  0.12]\n",
            " [ 0.33  0.36  0.15  0.14  0.1   0.15  1.    0.32 -0.03  0.2 ]\n",
            " [ 0.11  0.16  0.29  0.08  0.17  0.14  0.32  1.    0.04  0.36]\n",
            " [-0.    0.    0.07  0.4   0.15  0.03 -0.03  0.04  1.    0.01]\n",
            " [ 0.29  0.33  0.39  0.08  0.06  0.12  0.2   0.36  0.01  1.  ]]\n"
          ]
        }
      ]
    },
    {
      "cell_type": "code",
      "source": [
        "from sklearn.manifold import TSNE\n",
        "import matplotlib.pyplot as plt\n",
        "\n",
        "tsne = TSNE(n_components=2, perplexity=5, random_state=42)\n",
        "reduced_embeddings = tsne.fit_transform(embeddings)\n",
        "\n",
        "plt.figure(figsize=(10, 6))\n",
        "for i, label in enumerate(texts):\n",
        "    x, y = reduced_embeddings[i]\n",
        "    plt.scatter(x, y)\n",
        "    plt.text(x+0.01, y+0.01, label, fontsize=9)\n",
        "plt.title('t-SNE Visualization of Sentence Embeddings')\n",
        "plt.show()"
      ],
      "metadata": {
        "colab": {
          "base_uri": "https://localhost:8080/",
          "height": 545
        },
        "id": "n9FLK3DwI9Z0",
        "outputId": "571b98ba-3beb-4777-d3e6-d333b5b3353c"
      },
      "execution_count": 20,
      "outputs": [
        {
          "output_type": "display_data",
          "data": {
            "text/plain": [
              "<Figure size 1000x600 with 1 Axes>"
            ],
            "image/png": "[encoded data removed]"
          },
          "metadata": {}
        }
      ]
    },
    {
      "cell_type": "code",
      "source": [
        "from sklearn.manifold import TSNE\n",
        "\n",
        "tsne = TSNE(n_components=2, perplexity=3, random_state=42)\n",
        "reduced = tsne.fit_transform(embeddings)"
      ],
      "metadata": {
        "id": "PusUenNwG3x3"
      },
      "execution_count": 21,
      "outputs": []
    },
    {
      "cell_type": "code",
      "source": [
        "# Create FAISS index\n",
        "dimension = embeddings[0].shape[0]\n",
        "index = faiss.IndexFlatL2(dimension)\n",
        "index.add(np.array(embeddings))\n",
        "\n",
        "# Define query sentences\n",
        "queries = [\n",
        "    \"What's the weather like today?\",\n",
        "    \"Should I carry an umbrella tomorrow?\",\n",
        "    \"Is it a good day for walking outside?\",\n",
        "]\n",
        "\n",
        "# Generate embeddings for the queries\n",
        "query_embeddings = model.encode(queries)\n",
        "\n",
        "# Perform similarity search\n",
        "k = 3  # top-3 results\n",
        "for i, q in enumerate(queries):\n",
        "    D, I = index.search(np.array([query_embeddings[i]]), k)\n",
        "    print(f\"\\nQuery: {q}\")\n",
        "    for j in range(k):\n",
        "        print(f\"  Match: {texts[I[0][j]]} (Distance: {D[0][j]:.4f})\")"
      ],
      "metadata": {
        "colab": {
          "base_uri": "https://localhost:8080/"
        },
        "id": "z217eKNQHqNT",
        "outputId": "08c1d4ba-a8cb-4171-b05b-688aada86cd3"
      },
      "execution_count": 23,
      "outputs": [
        {
          "output_type": "stream",
          "name": "stdout",
          "text": [
            "\n",
            "Query: What's the weather like today?\n",
            "  Match: Tomorrow might rain. (Distance: 1.0086)\n",
            "  Match: The sun is bright today. (Distance: 1.0667)\n",
            "  Match: It’s a good day for a walk. (Distance: 1.2273)\n",
            "\n",
            "Query: Should I carry an umbrella tomorrow?\n",
            "  Match: Tomorrow might rain. (Distance: 0.9314)\n",
            "  Match: It’s a good day for a walk. (Distance: 1.1761)\n",
            "  Match: The sun is bright today. (Distance: 1.3110)\n",
            "\n",
            "Query: Is it a good day for walking outside?\n",
            "  Match: It’s a good day for a walk. (Distance: 0.4487)\n",
            "  Match: The sun is bright today. (Distance: 1.2643)\n",
            "  Match: Tomorrow might rain. (Distance: 1.2851)\n"
          ]
        }
      ]
    }
  ]
}